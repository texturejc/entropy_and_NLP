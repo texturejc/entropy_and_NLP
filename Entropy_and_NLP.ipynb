{
 "cells": [
  {
   "cell_type": "code",
   "execution_count": 69,
   "id": "d6f3591e",
   "metadata": {},
   "outputs": [],
   "source": [
    "import pandas as pd\n",
    "import seaborn as sns\n",
    "sns.set()\n",
    "import numpy as np\n",
    "import scipy as sp\n",
    "import matplotlib.pyplot as plt\n",
    "from IPython.display import IFrame\n",
    "import random\n",
    "import sympy\n",
    "from collections import Counter"
   ]
  },
  {
   "cell_type": "markdown",
   "id": "74f3b226",
   "metadata": {},
   "source": [
    "# Entropy and natural language processing"
   ]
  },
  {
   "cell_type": "markdown",
   "id": "d5e1c9c3",
   "metadata": {},
   "source": [
    "Entropy is a measure of unpredictability; the more unpredictable a system is, the higher its entropy. Though originally formulated in the context of thermodynamics, Claude Shannon extended the concept to information in his landmark work [A Mathematical Theory of Communication](https://people.math.harvard.edu/~ctm/home/text/others/shannon/entropy/entropy.pdf). Because it offers a measure of unpredictability, entropy is of crucual important in NLP, machine learning, and AI. \n",
    "\n",
    "This is the formula for entropy, where $H$ is the entropy measure and $X$ is a discrete probability distrbution:\n",
    "\n",
    "$$H(X) = -\\sum_{x \\in X} p(x)\\log_{2} p(x)$$\n",
    "\n",
    "But what does this formula mean? Let's investigate."
   ]
  },
  {
   "cell_type": "markdown",
   "id": "041ac480",
   "metadata": {},
   "source": [
    "The first step in understanding entropy comes with defining the notion of *surprise* (sometimes called *surprisal*, *information*, or *self-information*). When is an event surprising? When it's unlikely but happens anyway. Therefore, surprise is inveresely proportional to probability: high probability events have low surprise (we expect them to occur) while low probability events have high surprise (we *don't* expect them to occur). \n",
    "\n",
    "How might we represent this mathematically? First, note that every probability must take a value between $0$ and $1$, where the sum of all values in a distribution equals 1. This means that we want a formmula for surprise that turns small probability values into large surprise values, and vice versa. Usefully, the $-log(x)$ function does this between the values of $0$ and $1$:"
   ]
  },
  {
   "cell_type": "code",
   "execution_count": 70,
   "id": "bb424ef5",
   "metadata": {},
   "outputs": [
    {
     "name": "stderr",
     "output_type": "stream",
     "text": [
      "/var/folders/zp/g2cg0s7d3vn0y092tw5x90rc0000gn/T/ipykernel_13674/1008982893.py:2: RuntimeWarning: divide by zero encountered in log2\n",
      "  y = [-np.log2(i) for i in x] # Gets the log base 2 of these numbers\n"
     ]
    },
    {
     "data": {
      "text/plain": [
       "Text(0.5, 1.0, 'Surprise over probability')"
      ]
     },
     "execution_count": 70,
     "metadata": {},
     "output_type": "execute_result"
    },
    {
     "data": {
      "image/png": "[encoded data removed]",
      "text/plain": [
       "<Figure size 640x480 with 1 Axes>"
      ]
     },
     "metadata": {},
     "output_type": "display_data"
    }
   ],
   "source": [
    "\n",
    "x = np.arange(0,1, 0.0001) # Gets the numbers between 0 and 1 in increments of 0.0001 using the numpy (np) library \n",
    "y = [-np.log2(i) for i in x] # Gets the log base 2 of these numbers\n",
    "\n",
    "sns.lineplot(x = x, y = y) # Plots y against x\n",
    "plt.ylabel('surprise (bits)')\n",
    "plt.xlabel('probability')\n",
    "plt.title('Surprise over probability')"
   ]
  },
  {
   "cell_type": "markdown",
   "id": "a440ce0c",
   "metadata": {},
   "source": [
    "As can be seen, as probability increases surprise decreases––which is exactly what we want for our measure of surprise. How can we use this to characterise the unpredictability (i.e. the entropy) of an entire system? This is done by multiplying the probability of every state of a system by its surprise, and adding the results together:\n",
    "\n",
    "$$X = (x_1, x_2, ... , x_n)$$\n",
    "\n",
    "$$H(X) = p(x_1)\\times -\\log_{2}p(x_1) + p(x_2)\\times -\\log_{2}p(x_2) + ...+ p(x_n)\\times -\\log_{2}p(x_n)$$\n",
    "\n",
    "Notice that when we represent this using the summation operator ... we get the formula for entropy! \n",
    "\n",
    "$$H(X) = -\\sum_{x \\in X} p(x)\\log_{2} p(x)$$\n",
    "\n",
    "So entropy, in this sense, can be defined as the expected value of surprise across all states or outcomes of a system. That is, it's the 'average' amount of surprise across the system. \n",
    "\n",
    "## Example 1\n",
    "\n",
    "What does this look like in practice? Let's take an example. An urn contains 7 red balls and 3 blue balls. What is the entropy of this system? The answer comes with recognising that it defines a probability distribution across colours:\n",
    "\n",
    "Probability of a red ball: $\\frac{7}{10}$\n",
    "\n",
    "Probability of a blue ball: $\\frac{3}{10}$\n",
    "\n",
    "$$H(X) = -\\begin{bmatrix}{\\frac{7}{10}\\times \\log_{2}(\\frac{7}{10}) + \\frac{3}{10}\\times \\log_{2}(\\frac{3}{10})}\\end{bmatrix}$$\n",
    "\n",
    "$$H(X) = -[-0.5210896782498619 - 0.3602012209808308]$$\n",
    "\n",
    "$$H(X) = 0.8812908992306927 bits$$\n",
    "\n",
    "Compare with an urn that contains 5 red balls and 5 blue balls:\n",
    "\n",
    "$$H(X) = -\\begin{bmatrix}{\\frac{5}{10}\\times \\log_{2}(\\frac{5}{10}) + \\frac{5}{10}\\times \\log_{2}(\\frac{5}{10})}\\end{bmatrix}$$\n",
    "\n",
    "$$H(X) = -[-0.5 - 0.5]$$\n",
    "\n",
    "$$H(X) = 1 bits$$\n",
    "\n",
    "Because the urn with equal numbers of red and blue balls is harder to predict, it has higher entropy than the system with more red than blue balls. \n",
    "\n",
    "Usefully, the `scipy` library has a function for calculating the entropy of a distribution, namely `sp.stats.entropy`:"
   ]
  },
  {
   "cell_type": "code",
   "execution_count": 71,
   "id": "853e8bc4",
   "metadata": {},
   "outputs": [
    {
     "name": "stdout",
     "output_type": "stream",
     "text": [
      "The entropy of dist_1 is 0.8812908992306927 bits. The entropy of dist_2 is 1.0 bits.\n"
     ]
    }
   ],
   "source": [
    "dist_1 = [7/10, 3/10] \n",
    "dist_2 = [5/10, 5/10]\n",
    "\n",
    "ent_1 = sp.stats.entropy(dist_1, base = 2) # Gets the entropy using log base 2 \n",
    "ent_2 = sp.stats.entropy(dist_2, base = 2)\n",
    "\n",
    "print(\"The entropy of dist_1 is {} bits.\".format(ent_1),\"The entropy of dist_2 is {} bits.\".format(ent_2))"
   ]
  },
  {
   "cell_type": "markdown",
   "id": "6f469c9e",
   "metadata": {},
   "source": [
    "## Example 2\n",
    "\n",
    "Another example: the frequencies of the letters of the alphabet."
   ]
  },
  {
   "cell_type": "code",
   "execution_count": 74,
   "id": "a401499b",
   "metadata": {},
   "outputs": [],
   "source": [
    "letter_frequencies =  {'E': 0.12003601080324099, 'T': 0.09102730819245775, 'A': 0.08122436731019306, \\\n",
    "                       'O': 0.07682304691407423, 'I': 0.0731219365809743, 'N': 0.06952085625687708, \\\n",
    "                           'S': 0.06281884565369612, 'R': 0.06021806541962589, 'H': 0.05921776532959889, '\\\n",
    "                               D': 0.04321296388916676, 'L': 0.03981194358307493, 'U': 0.028808642592777836, \\\n",
    "                                   'C': 0.027108132439731925, 'M': 0.026107832349704915, 'F': 0.02300690207062119, \\\n",
    "                                       'Y': 0.021106331899569872, 'W': 0.02090627188156447, 'G': 0.020306091827548264, \\\n",
    "                                           'P': 0.01820546163849155, 'B': 0.014904471341402423, 'V': 0.011103330999299792,\\\n",
    "                                               'K': 0.006902070621186356, 'X': 0.0017005101530459142, 'Q': 0.0011003300990297092, \\\n",
    "                                                   'J': 0.0010003000900270084, 'Z': 0.0007002100630189059}"
   ]
  },
  {
   "cell_type": "code",
   "execution_count": 77,
   "id": "e784d4e1",
   "metadata": {},
   "outputs": [
    {
     "data": {
      "text/plain": [
       "<AxesSubplot: >"
      ]
     },
     "execution_count": 77,
     "metadata": {},
     "output_type": "execute_result"
    },
    {
     "data": {
      "image/png": "[encoded data removed]",
      "text/plain": [
       "<Figure size 640x480 with 1 Axes>"
      ]
     },
     "metadata": {},
     "output_type": "display_data"
    }
   ],
   "source": [
    "sns.lineplot(y = [i for i in letter_frequencies.keys()], x = [i for i in letter_frequencies.values()])"
   ]
  },
  {
   "cell_type": "code",
   "execution_count": 79,
   "id": "1ad0441e",
   "metadata": {},
   "outputs": [
    {
     "name": "stdout",
     "output_type": "stream",
     "text": [
      "The entropy of the English alphabet is 4.181610514870445 bits. The entropy of a system of 26 equiprobable symbols is 4.7004397181410935 bits.\n"
     ]
    }
   ],
   "source": [
    "entropy_alphabet = sp.stats.entropy([i for i in letter_frequencies.values()], base = 2)\n",
    "                                     \n",
    "random_freq = [1] * 26\n",
    "random_freq = [1/26 for i in random_freq]\n",
    "                                     \n",
    "entropy_rand = sp.stats.entropy(random_freq, base = 2)\n",
    "                                     \n",
    "print(\"The entropy of the English alphabet is {} bits.\".format(entropy_alphabet),\"The entropy of a system of 26 equiprobable symbols is {} bits.\".format(entropy_rand))"
   ]
  },
  {
   "cell_type": "markdown",
   "id": "7fa18a6a",
   "metadata": {},
   "source": [
    "# The Wow! signal––first message from an extraterrestrial civilisation?\n",
    "\n",
    "But what good is entropy in the context of NLP? Entropy is valuable because it allows us to calculate when strings are likely to be meaningful, even if we don't know that that meaning is. What does this look like? Let's consider ... the Wow! signal.\n",
    "\n"
   ]
  },
  {
   "cell_type": "code",
   "execution_count": 39,
   "id": "bf103d93",
   "metadata": {},
   "outputs": [
    {
     "data": {
      "text/html": [
       "\n",
       "        <iframe\n",
       "            width=\"700\"\n",
       "            height=\"350\"\n",
       "            src=\"https://www.youtube.com/embed?v=TjQUucV83w4&ab_channel=WatchNow-Sci-Fi%26Fantasy\"\n",
       "            frameborder=\"0\"\n",
       "            allowfullscreen\n",
       "            \n",
       "        ></iframe>\n",
       "        "
      ],
      "text/plain": [
       "<IPython.lib.display.IFrame at 0x7fba48aef7c0>"
      ]
     },
     "execution_count": 39,
     "metadata": {},
     "output_type": "execute_result"
    }
   ],
   "source": [
    "IFrame('https://www.youtube.com/embed?v=TjQUucV83w4&ab_channel=WatchNow-Sci-Fi%26Fantasy', width=700, height=350)"
   ]
  },
  {
   "cell_type": "markdown",
   "id": "00b92daf",
   "metadata": {},
   "source": [
    "Let's imagine that the Wow! signal contained the following binary string (it didn't):"
   ]
  },
  {
   "cell_type": "code",
   "execution_count": 43,
   "id": "d3038a4d",
   "metadata": {},
   "outputs": [],
   "source": [
    "text = '011101000110100001100101011100100110010101110011001000000110000100100000011100110111010001100001011100100010000001101101011000010110111000100000011101110110000101101001011101000110100101101110011001110010000001110100011010000110010100100000011100110110101101111001'\n"
   ]
  },
  {
   "cell_type": "markdown",
   "id": "c1aabcd5",
   "metadata": {},
   "source": [
    "Now, let's generate a random string of the same length for comparison purposes:"
   ]
  },
  {
   "cell_type": "code",
   "execution_count": 44,
   "id": "ec1a11f2",
   "metadata": {},
   "outputs": [],
   "source": [
    "rand = random.choices([0,1], k=len(text)) # Generates a random selection of 0's and 1's up to length of the message text\n",
    "rand = [str(i) for i in rand] # Turns the selection into string data\n",
    "rand = \"\".join(rand)"
   ]
  },
  {
   "cell_type": "code",
   "execution_count": 46,
   "id": "264f6011",
   "metadata": {},
   "outputs": [],
   "source": [
    "text_d = [text.count('0')/len(text), text.count('1')/len(text)] # Gets the probability of selecting a 0 or a 1 in the distribution\n",
    "rand_d = [rand.count('0')/len(text), rand.count('1')/len(text)]"
   ]
  },
  {
   "cell_type": "code",
   "execution_count": 53,
   "id": "8dd64cb8",
   "metadata": {},
   "outputs": [],
   "source": [
    "ent_t = sp.stats.entropy(text_d, base = 2)\n",
    "ent_r = sp.stats.entropy(rand_d, base = 2)"
   ]
  },
  {
   "cell_type": "markdown",
   "id": "8aa973ed",
   "metadata": {},
   "source": [
    "This doesn't tell us much, so let's make some plausible assumptions:\n",
    "\n",
    "* The aliens have a finite number of symobols that are analogous to the letters of the alphabet (i.e. they won't encode words directly)\n",
    "* Each symbol will be encoded by groups of 0's and 1's\n",
    "* The message will try to balance ease of decoding against expressive power\n",
    "* The message is complete\n",
    "\n",
    "Let's imagine that ever letter is ecoding by two binary digits. This gives us four possible symbols:\n",
    "\n",
    "$$(0,0) = S_1$$\n",
    "$$(0,1) = S_2$$\n",
    "$$(1,0) = S_3$$\n",
    "$$(1,1) = S_4$$\n",
    "\n",
    "Are four symbols enough for an expressive alphabet? Not really. If we encode using three binary digits, we get eight ($2^3$) symbols, which is still too small. But if we use (say) ten digits, we get 1,024 ($2^{10}$) symbols which is likely too big. What's the most likely choice for the aliens to make? One clue comes from the length of the message. If it's complete, then the length of the encoding *must* evenly divide the message length. This gives the following options for the length of the encoding"
   ]
  },
  {
   "cell_type": "code",
   "execution_count": 56,
   "id": "05eedac4",
   "metadata": {},
   "outputs": [],
   "source": [
    "symbol_length_t = sympy.divisors(len(text)) # Gets the numbers that evenly divide the message length using the `sympy` library for algebra"
   ]
  },
  {
   "cell_type": "markdown",
   "id": "6a77aa92",
   "metadata": {},
   "source": [
    "Now that we have all the possible encoding lengths, we can divide up the message into chunks matching each possible 'alphabet'. *One* of these will be the correct one––but we don't know which!"
   ]
  },
  {
   "cell_type": "code",
   "execution_count": 61,
   "id": "fc291d07",
   "metadata": {},
   "outputs": [],
   "source": [
    "alphabets_t = []\n",
    "\n",
    "for j in symbol_length_t:\n",
    "    alphabets_t.append([text[i:i+j] for i in range(0, len(text), j)]) # Chunks the message into groups of 0's and 1's corresponding to all possible encoding lengths\n",
    "    \n",
    "\n",
    "# Get a count of how often each possible symbol occurs in the message for each alphabet and convert to pandas series\n",
    "alphabets_t = [pd.Series(Counter(i)) for i in alphabets_t]"
   ]
  },
  {
   "cell_type": "markdown",
   "id": "3181e41a",
   "metadata": {},
   "source": [
    "However, we need to compare our possible message to our random string so we can see where differences emerge. So, we do the same chunking for our random string:"
   ]
  },
  {
   "cell_type": "code",
   "execution_count": 62,
   "id": "bb6a32f2",
   "metadata": {},
   "outputs": [],
   "source": [
    "symbol_length_r = sympy.divisors(len(rand))\n",
    "\n",
    "alphabets_r = []\n",
    "\n",
    "for j in symbol_length_r:\n",
    "    alphabets_r.append([rand[i:i+j] for i in range(0, len(rand), j)])\n",
    "    \n",
    "alphabets_r = [pd.Series(Counter(i)) for i in alphabets_r]"
   ]
  },
  {
   "cell_type": "markdown",
   "id": "72e17bd7",
   "metadata": {},
   "source": [
    "Now, let's calculate the entropy of each possible alphabet for the message string and the random string:"
   ]
  },
  {
   "cell_type": "code",
   "execution_count": 63,
   "id": "22121ce4",
   "metadata": {},
   "outputs": [],
   "source": [
    "entropies_t = [sp.stats.entropy(i, base = 2) for i in alphabets_t] # entropies of all message alphabets\n",
    "entropies_r = [sp.stats.entropy(i, base = 2) for i in alphabets_r] # entropies of all random string alphabets"
   ]
  },
  {
   "cell_type": "markdown",
   "id": "74501bb7",
   "metadata": {},
   "source": [
    "The next step comes with plotting all possible encoding lengths for the both the message and the random string and comparing one against the other."
   ]
  },
  {
   "cell_type": "code",
   "execution_count": 64,
   "id": "7beb4f0f",
   "metadata": {},
   "outputs": [
    {
     "data": {
      "text/plain": [
       "<AxesSubplot: xlabel='encoding_length', ylabel='entropy'>"
      ]
     },
     "execution_count": 64,
     "metadata": {},
     "output_type": "execute_result"
    },
    {
     "data": {
      "image/png": "[encoded data removed]",
      "text/plain": [
       "<Figure size 640x480 with 1 Axes>"
      ]
     },
     "metadata": {},
     "output_type": "display_data"
    }
   ],
   "source": [
    "# Create a panddas dataframe from the entropy data to compare the message and the random texts\n",
    "\n",
    "entropy = pd.DataFrame()\n",
    "entropy['random'] = entropies_r\n",
    "entropy['message'] = entropies_t\n",
    "\n",
    "entropy = pd.melt(entropy)\n",
    "\n",
    "entropy.columns = ['source', 'entropy']\n",
    "\n",
    "entropy['encoding_length'] = symbol_length_r + symbol_length_t\n",
    "\n",
    "# Plot the entropy for both message texts\n",
    "sns.lineplot(x = 'encoding_length', y = 'entropy', hue = 'source', data = entropy)\n"
   ]
  },
  {
   "cell_type": "code",
   "execution_count": 65,
   "id": "049adc0f",
   "metadata": {},
   "outputs": [
    {
     "data": {
      "text/html": [
       "<div>\n",
       "<style scoped>\n",
       "    .dataframe tbody tr th:only-of-type {\n",
       "        vertical-align: middle;\n",
       "    }\n",
       "\n",
       "    .dataframe tbody tr th {\n",
       "        vertical-align: top;\n",
       "    }\n",
       "\n",
       "    .dataframe thead th {\n",
       "        text-align: right;\n",
       "    }\n",
       "</style>\n",
       "<table border=\"1\" class=\"dataframe\">\n",
       "  <thead>\n",
       "    <tr style=\"text-align: right;\">\n",
       "      <th></th>\n",
       "      <th>source</th>\n",
       "      <th>entropy</th>\n",
       "      <th>encoding_length</th>\n",
       "    </tr>\n",
       "  </thead>\n",
       "  <tbody>\n",
       "    <tr>\n",
       "      <th>0</th>\n",
       "      <td>random</td>\n",
       "      <td>0.999627</td>\n",
       "      <td>1</td>\n",
       "    </tr>\n",
       "    <tr>\n",
       "      <th>1</th>\n",
       "      <td>random</td>\n",
       "      <td>1.998343</td>\n",
       "      <td>2</td>\n",
       "    </tr>\n",
       "    <tr>\n",
       "      <th>2</th>\n",
       "      <td>random</td>\n",
       "      <td>2.945764</td>\n",
       "      <td>3</td>\n",
       "    </tr>\n",
       "    <tr>\n",
       "      <th>3</th>\n",
       "      <td>random</td>\n",
       "      <td>3.821863</td>\n",
       "      <td>4</td>\n",
       "    </tr>\n",
       "    <tr>\n",
       "      <th>4</th>\n",
       "      <td>random</td>\n",
       "      <td>4.879664</td>\n",
       "      <td>6</td>\n",
       "    </tr>\n",
       "    <tr>\n",
       "      <th>5</th>\n",
       "      <td>random</td>\n",
       "      <td>4.923182</td>\n",
       "      <td>8</td>\n",
       "    </tr>\n",
       "    <tr>\n",
       "      <th>6</th>\n",
       "      <td>random</td>\n",
       "      <td>4.584963</td>\n",
       "      <td>11</td>\n",
       "    </tr>\n",
       "    <tr>\n",
       "      <th>7</th>\n",
       "      <td>random</td>\n",
       "      <td>4.459432</td>\n",
       "      <td>12</td>\n",
       "    </tr>\n",
       "    <tr>\n",
       "      <th>8</th>\n",
       "      <td>random</td>\n",
       "      <td>3.584963</td>\n",
       "      <td>22</td>\n",
       "    </tr>\n",
       "    <tr>\n",
       "      <th>9</th>\n",
       "      <td>random</td>\n",
       "      <td>3.459432</td>\n",
       "      <td>24</td>\n",
       "    </tr>\n",
       "    <tr>\n",
       "      <th>10</th>\n",
       "      <td>random</td>\n",
       "      <td>3.000000</td>\n",
       "      <td>33</td>\n",
       "    </tr>\n",
       "    <tr>\n",
       "      <th>11</th>\n",
       "      <td>random</td>\n",
       "      <td>2.584963</td>\n",
       "      <td>44</td>\n",
       "    </tr>\n",
       "    <tr>\n",
       "      <th>12</th>\n",
       "      <td>random</td>\n",
       "      <td>2.000000</td>\n",
       "      <td>66</td>\n",
       "    </tr>\n",
       "    <tr>\n",
       "      <th>13</th>\n",
       "      <td>random</td>\n",
       "      <td>1.584963</td>\n",
       "      <td>88</td>\n",
       "    </tr>\n",
       "    <tr>\n",
       "      <th>14</th>\n",
       "      <td>random</td>\n",
       "      <td>1.000000</td>\n",
       "      <td>132</td>\n",
       "    </tr>\n",
       "    <tr>\n",
       "      <th>15</th>\n",
       "      <td>random</td>\n",
       "      <td>0.000000</td>\n",
       "      <td>264</td>\n",
       "    </tr>\n",
       "    <tr>\n",
       "      <th>16</th>\n",
       "      <td>message</td>\n",
       "      <td>0.992992</td>\n",
       "      <td>1</td>\n",
       "    </tr>\n",
       "    <tr>\n",
       "      <th>17</th>\n",
       "      <td>message</td>\n",
       "      <td>1.938567</td>\n",
       "      <td>2</td>\n",
       "    </tr>\n",
       "    <tr>\n",
       "      <th>18</th>\n",
       "      <td>message</td>\n",
       "      <td>2.879869</td>\n",
       "      <td>3</td>\n",
       "    </tr>\n",
       "    <tr>\n",
       "      <th>19</th>\n",
       "      <td>message</td>\n",
       "      <td>3.228028</td>\n",
       "      <td>4</td>\n",
       "    </tr>\n",
       "    <tr>\n",
       "      <th>20</th>\n",
       "      <td>message</td>\n",
       "      <td>4.652391</td>\n",
       "      <td>6</td>\n",
       "    </tr>\n",
       "    <tr>\n",
       "      <th>21</th>\n",
       "      <td>message</td>\n",
       "      <td>3.558953</td>\n",
       "      <td>8</td>\n",
       "    </tr>\n",
       "    <tr>\n",
       "      <th>22</th>\n",
       "      <td>message</td>\n",
       "      <td>4.584963</td>\n",
       "      <td>11</td>\n",
       "    </tr>\n",
       "    <tr>\n",
       "      <th>23</th>\n",
       "      <td>message</td>\n",
       "      <td>4.368523</td>\n",
       "      <td>12</td>\n",
       "    </tr>\n",
       "    <tr>\n",
       "      <th>24</th>\n",
       "      <td>message</td>\n",
       "      <td>3.584963</td>\n",
       "      <td>22</td>\n",
       "    </tr>\n",
       "    <tr>\n",
       "      <th>25</th>\n",
       "      <td>message</td>\n",
       "      <td>3.459432</td>\n",
       "      <td>24</td>\n",
       "    </tr>\n",
       "    <tr>\n",
       "      <th>26</th>\n",
       "      <td>message</td>\n",
       "      <td>3.000000</td>\n",
       "      <td>33</td>\n",
       "    </tr>\n",
       "    <tr>\n",
       "      <th>27</th>\n",
       "      <td>message</td>\n",
       "      <td>2.584963</td>\n",
       "      <td>44</td>\n",
       "    </tr>\n",
       "    <tr>\n",
       "      <th>28</th>\n",
       "      <td>message</td>\n",
       "      <td>2.000000</td>\n",
       "      <td>66</td>\n",
       "    </tr>\n",
       "    <tr>\n",
       "      <th>29</th>\n",
       "      <td>message</td>\n",
       "      <td>1.584963</td>\n",
       "      <td>88</td>\n",
       "    </tr>\n",
       "    <tr>\n",
       "      <th>30</th>\n",
       "      <td>message</td>\n",
       "      <td>1.000000</td>\n",
       "      <td>132</td>\n",
       "    </tr>\n",
       "    <tr>\n",
       "      <th>31</th>\n",
       "      <td>message</td>\n",
       "      <td>0.000000</td>\n",
       "      <td>264</td>\n",
       "    </tr>\n",
       "  </tbody>\n",
       "</table>\n",
       "</div>"
      ],
      "text/plain": [
       "     source   entropy  encoding_length\n",
       "0    random  0.999627                1\n",
       "1    random  1.998343                2\n",
       "2    random  2.945764                3\n",
       "3    random  3.821863                4\n",
       "4    random  4.879664                6\n",
       "5    random  4.923182                8\n",
       "6    random  4.584963               11\n",
       "7    random  4.459432               12\n",
       "8    random  3.584963               22\n",
       "9    random  3.459432               24\n",
       "10   random  3.000000               33\n",
       "11   random  2.584963               44\n",
       "12   random  2.000000               66\n",
       "13   random  1.584963               88\n",
       "14   random  1.000000              132\n",
       "15   random  0.000000              264\n",
       "16  message  0.992992                1\n",
       "17  message  1.938567                2\n",
       "18  message  2.879869                3\n",
       "19  message  3.228028                4\n",
       "20  message  4.652391                6\n",
       "21  message  3.558953                8\n",
       "22  message  4.584963               11\n",
       "23  message  4.368523               12\n",
       "24  message  3.584963               22\n",
       "25  message  3.459432               24\n",
       "26  message  3.000000               33\n",
       "27  message  2.584963               44\n",
       "28  message  2.000000               66\n",
       "29  message  1.584963               88\n",
       "30  message  1.000000              132\n",
       "31  message  0.000000              264"
      ]
     },
     "execution_count": 65,
     "metadata": {},
     "output_type": "execute_result"
    }
   ],
   "source": [
    "entropy"
   ]
  },
  {
   "cell_type": "markdown",
   "id": "56821344",
   "metadata": {},
   "source": [
    "The last step comes with identifying the one character we can be reasonably sure is the most common item in the message. What is it?"
   ]
  },
  {
   "cell_type": "code",
   "execution_count": 68,
   "id": "32bb97bd",
   "metadata": {},
   "outputs": [],
   "source": [
    "most_frequent = alphabets_t[5].idxmax()\n",
    "parsed_message = text.replace(most_frequent, \" \")"
   ]
  },
  {
   "cell_type": "code",
   "execution_count": 67,
   "id": "8b456518",
   "metadata": {},
   "outputs": [
    {
     "data": {
      "text/plain": [
       "'011101000110100001100101011100100110010101110011 01100001 01110011011101000110000101110010 011011010110000101101110 01110111011000010110100101110100011010010110111001100111 011101000110100001100101 011100110110101101111001'"
      ]
     },
     "execution_count": 67,
     "metadata": {},
     "output_type": "execute_result"
    }
   ],
   "source": [
    "parsed_message"
   ]
  },
  {
   "cell_type": "code",
   "execution_count": null,
   "id": "89f30167",
   "metadata": {},
   "outputs": [],
   "source": []
  }
 ],
 "metadata": {
  "kernelspec": {
   "display_name": "Python 3 (ipykernel)",
   "language": "python",
   "name": "python3"
  },
  "language_info": {
   "codemirror_mode": {
    "name": "ipython",
    "version": 3
   },
   "file_extension": ".py",
   "mimetype": "text/x-python",
   "name": "python",
   "nbconvert_exporter": "python",
   "pygments_lexer": "ipython3",
   "version": "3.9.13"
  }
 },
 "nbformat": 4,
 "nbformat_minor": 5
}
