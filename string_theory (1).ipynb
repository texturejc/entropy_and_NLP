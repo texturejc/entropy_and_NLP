{
 "cells": [
  {
   "cell_type": "markdown",
   "id": "394abb9d-14b5-4e6e-80a9-4fd41cbef328",
   "metadata": {},
   "source": [
    "# String exercises in python\n",
    "\n",
    "Some guidelines:\n",
    "\n",
    "* In Python, a string is a series of characters. Also, Python strings are immutable.\n",
    "* Use quotes, either single quotes or double quotes to create string literals.\n",
    "* Use the backslash character \\ to escape quotes in strings\n",
    "* Use raw strings r'...' to escape the backslash character.\n",
    "* Use f-strings to insert substitute variables in literal strings.\n",
    "* Place literal strings next to each other to concatenate them. And use the + operator to concatenate string variables.\n",
    "* Use the len() function to get the size of a string.\n",
    "* Use the str[n] to access the character at the position n of the string str.\n",
    "* Use slicing to extract a substring from a string."
   ]
  },
  {
   "cell_type": "markdown",
   "id": "4c65cb7c-5242-49d3-95aa-105b1a2b5633",
   "metadata": {},
   "source": [
    "## 1. Join the following list of string items into a single string called `new_string`"
   ]
  },
  {
   "cell_type": "code",
   "execution_count": null,
   "id": "59b89b7e-0df0-44a0-a37e-0c1278303bbb",
   "metadata": {},
   "outputs": [],
   "source": [
    "strings = ['I', 'am', 'a','long', 'piece', 'of', 'string']"
   ]
  },
  {
   "cell_type": "markdown",
   "id": "ef103573-c059-4e35-816f-254c9c16707e",
   "metadata": {},
   "source": [
    "## 2. Create new strings consting of `new_string` in upper- and lower-case text."
   ]
  },
  {
   "cell_type": "code",
   "execution_count": null,
   "id": "4eba9812-d027-4d38-bb1d-eb43e2ba6c63",
   "metadata": {},
   "outputs": [],
   "source": []
  },
  {
   "cell_type": "markdown",
   "id": "67d9caf4-21f2-44c6-8be9-e59a7f9e21dc",
   "metadata": {},
   "source": [
    "## 3. Convert `new_string` to a title using a single function."
   ]
  },
  {
   "cell_type": "code",
   "execution_count": null,
   "id": "b877aca9-5859-4b78-8083-542cfef90970",
   "metadata": {},
   "outputs": [],
   "source": []
  },
  {
   "cell_type": "markdown",
   "id": "017e0ff6-f29d-4731-87be-79490a9a4533",
   "metadata": {},
   "source": [
    "## 4. Create a string that reverses the order of `new_string`."
   ]
  },
  {
   "cell_type": "code",
   "execution_count": null,
   "id": "b9534e5d-69b5-41ef-a244-b196038e57de",
   "metadata": {},
   "outputs": [],
   "source": []
  },
  {
   "cell_type": "markdown",
   "id": "ad70af9a-4b5f-4f95-b7d8-f57e9c3623dc",
   "metadata": {},
   "source": [
    "## 5. Create a dictionary that counts the frequency of each character in `new_string`."
   ]
  },
  {
   "cell_type": "code",
   "execution_count": null,
   "id": "831f2e13-7460-4192-a078-f4868a63410c",
   "metadata": {},
   "outputs": [],
   "source": []
  },
  {
   "cell_type": "markdown",
   "id": "0cda260d-5b82-4294-9e38-a20747242966",
   "metadata": {},
   "source": [
    "## 6. Create three strings that replace the word 'string' in new_string with items from this list: ['misery', 'protein', 'spaghetti']"
   ]
  },
  {
   "cell_type": "code",
   "execution_count": null,
   "id": "55bb0c49-cdc2-4c33-ae3f-a93d2c3f703e",
   "metadata": {},
   "outputs": [],
   "source": []
  },
  {
   "cell_type": "markdown",
   "id": "6fe5af62-4260-425b-aa7b-2ebafd197d50",
   "metadata": {},
   "source": [
    "## 7. Gather all the strings you have created into a list called `documents`."
   ]
  },
  {
   "cell_type": "code",
   "execution_count": null,
   "id": "177f7c23-f2c7-44f8-9894-bf94c356073a",
   "metadata": {},
   "outputs": [],
   "source": []
  },
  {
   "cell_type": "markdown",
   "id": "a0a44b64-1816-4da5-b8fa-2a973d972306",
   "metadata": {},
   "source": [
    "## 8. Join all the sentences in documents into a single string called `text`."
   ]
  },
  {
   "cell_type": "code",
   "execution_count": null,
   "id": "d19d79dc-7aea-40e1-85d8-88e2d43a6a55",
   "metadata": {},
   "outputs": [],
   "source": []
  },
  {
   "cell_type": "markdown",
   "id": "89b4c303-6b0c-40f7-af48-4003bef6d437",
   "metadata": {},
   "source": [
    "## 9. Split `text` into a a list of words."
   ]
  },
  {
   "cell_type": "code",
   "execution_count": null,
   "id": "211cb9d3-0701-4701-ac70-0f6f0a80f431",
   "metadata": {},
   "outputs": [],
   "source": []
  },
  {
   "cell_type": "markdown",
   "id": "477d6685-0ede-4964-95cc-f0444179eec3",
   "metadata": {},
   "source": [
    "## 10. Create a `dictionary` that contains the words in `text` as keys and the frequency of each word as values."
   ]
  },
  {
   "cell_type": "code",
   "execution_count": null,
   "id": "a7ed578c-7eca-416c-baac-05f334b4304e",
   "metadata": {},
   "outputs": [],
   "source": []
  },
  {
   "cell_type": "markdown",
   "id": "38096533-d268-440d-8095-f75dc901a23d",
   "metadata": {},
   "source": [
    "## 11. Create a chart that each word on the x-axis and the frequency of each word on the y-axis."
   ]
  },
  {
   "cell_type": "code",
   "execution_count": null,
   "id": "ddf926a5-ab3d-4df2-9157-64f1cf36ad36",
   "metadata": {},
   "outputs": [],
   "source": []
  },
  {
   "cell_type": "markdown",
   "id": "b3631639-1b2b-4ee9-b4fe-456d755ef297",
   "metadata": {},
   "source": [
    "## 12. Split `text` into a list of characters and create a dictionary that contains characters as keys and frequencies as values. "
   ]
  },
  {
   "cell_type": "code",
   "execution_count": null,
   "id": "7c0f32e4-7348-4f37-b3a6-a785a0558020",
   "metadata": {},
   "outputs": [],
   "source": []
  },
  {
   "cell_type": "markdown",
   "id": "41d77c4a-8421-4ae2-b36e-b7dd1931b663",
   "metadata": {},
   "source": [
    "## 13. Create a chart that compares the frequency of characters in English generally with the freqeuncy of the same characters in `text`. (See below for data on letter frequencies in English.)"
   ]
  },
  {
   "cell_type": "code",
   "execution_count": null,
   "id": "3cd1f671-5644-4780-b484-2603b0f2287a",
   "metadata": {},
   "outputs": [],
   "source": [
    "letter_frequencies_english =  {'E': 0.12003601080324099, 'T': 0.09102730819245775, 'A': 0.08122436731019306, \\\n",
    "                       'O': 0.07682304691407423, 'I': 0.0731219365809743, 'N': 0.06952085625687708, \\\n",
    "                           'S': 0.06281884565369612, 'R': 0.06021806541962589, 'H': 0.05921776532959889,\\\n",
    "                               'D': 0.04321296388916676, 'L': 0.03981194358307493, 'U': 0.028808642592777836, \\\n",
    "                                   'C': 0.027108132439731925, 'M': 0.026107832349704915, 'F': 0.02300690207062119, \\\n",
    "                                       'Y': 0.021106331899569872, 'W': 0.02090627188156447, 'G': 0.020306091827548264, \\\n",
    "                                           'P': 0.01820546163849155, 'B': 0.014904471341402423, 'V': 0.011103330999299792,\\\n",
    "                                               'K': 0.006902070621186356, 'X': 0.0017005101530459142, 'Q': 0.0011003300990297092, \\\n",
    "                                                   'J': 0.0010003000900270084, 'Z': 0.0007002100630189059}"
   ]
  },
  {
   "cell_type": "markdown",
   "id": "b158feee",
   "metadata": {},
   "source": [
    "# Pandas exercises"
   ]
  },
  {
   "cell_type": "code",
   "execution_count": 15,
   "id": "fc1a385b",
   "metadata": {},
   "outputs": [],
   "source": [
    "import pandas as pd\n",
    "import seaborn as sns\n",
    "sns.set()\n",
    "data = pd.read_pickle(\"/Users/james/Documents/gender_tweets.pkl\")"
   ]
  },
  {
   "cell_type": "markdown",
   "id": "9f9e0179",
   "metadata": {},
   "source": [
    "### 1. For three of the emotion variables, find the highest and lowest scoring tweet"
   ]
  },
  {
   "cell_type": "code",
   "execution_count": null,
   "id": "9634f86d",
   "metadata": {},
   "outputs": [],
   "source": []
  },
  {
   "cell_type": "markdown",
   "id": "d55001c9",
   "metadata": {},
   "source": [
    "### 2. Extract the tweets containing words about a topic of your choice"
   ]
  },
  {
   "cell_type": "code",
   "execution_count": null,
   "id": "1f091bc9",
   "metadata": {},
   "outputs": [],
   "source": [
    "words = [\"cats\", \"bats\", \"rats\"]"
   ]
  },
  {
   "cell_type": "markdown",
   "id": "1f11d506",
   "metadata": {},
   "source": [
    "### 3. Get the top quartile of tweets for concreteness"
   ]
  },
  {
   "cell_type": "code",
   "execution_count": null,
   "id": "c6feb1c6",
   "metadata": {},
   "outputs": [],
   "source": []
  },
  {
   "cell_type": "markdown",
   "id": "de222ffa",
   "metadata": {},
   "source": [
    "### 4. Create a smaller dataframe consisting of just the date of the tweet and a variable of your choice"
   ]
  },
  {
   "cell_type": "code",
   "execution_count": null,
   "id": "41ea318f",
   "metadata": {},
   "outputs": [],
   "source": []
  },
  {
   "cell_type": "markdown",
   "id": "dee45238",
   "metadata": {},
   "source": [
    "### 5. Plot the change in your variable over time"
   ]
  },
  {
   "cell_type": "code",
   "execution_count": null,
   "id": "e3928b39",
   "metadata": {},
   "outputs": [],
   "source": []
  },
  {
   "cell_type": "markdown",
   "id": "4c324566",
   "metadata": {},
   "source": [
    "### 6. Plot changes in you variable month-by-month"
   ]
  },
  {
   "cell_type": "code",
   "execution_count": 22,
   "id": "86ad7859",
   "metadata": {},
   "outputs": [],
   "source": []
  },
  {
   "cell_type": "markdown",
   "id": "b2b09fb9",
   "metadata": {},
   "source": [
    "### 7. Identify any systematic differences between male and female tweeters on any dimension of your choosing"
   ]
  },
  {
   "cell_type": "code",
   "execution_count": null,
   "id": "5a112b8e",
   "metadata": {},
   "outputs": [],
   "source": []
  }
 ],
 "metadata": {
  "kernelspec": {
   "display_name": "Python 3 (ipykernel)",
   "language": "python",
   "name": "python3"
  },
  "language_info": {
   "codemirror_mode": {
    "name": "ipython",
    "version": 3
   },
   "file_extension": ".py",
   "mimetype": "text/x-python",
   "name": "python",
   "nbconvert_exporter": "python",
   "pygments_lexer": "ipython3",
   "version": "3.9.18"
  }
 },
 "nbformat": 4,
 "nbformat_minor": 5
}
