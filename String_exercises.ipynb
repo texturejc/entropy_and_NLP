{
 "cells": [
  {
   "cell_type": "markdown",
   "id": "670a68ec",
   "metadata": {},
   "source": [
    "# String manipulation exercises"
   ]
  },
  {
   "cell_type": "markdown",
   "id": "c8c56b66",
   "metadata": {},
   "source": [
    "1. Join the following list of string items into a single string called `new_string`"
   ]
  },
  {
   "cell_type": "code",
   "execution_count": 1,
   "id": "d7a8db33",
   "metadata": {},
   "outputs": [],
   "source": [
    "strings = ['I', 'am', 'a','long', 'piece', 'of' 'string']"
   ]
  },
  {
   "cell_type": "markdown",
   "id": "5bd1d6dc",
   "metadata": {},
   "source": [
    "2. Create new strings consting of `new_string` in upper- and lower-case text."
   ]
  },
  {
   "cell_type": "markdown",
   "id": "db22fa18",
   "metadata": {},
   "source": [
    "3. Convert `new_string` to a title using a single function."
   ]
  },
  {
   "cell_type": "markdown",
   "id": "647d0e20",
   "metadata": {},
   "source": [
    "4. Create a string that reverses the order of `new_string`."
   ]
  },
  {
   "cell_type": "markdown",
   "id": "26af0f88",
   "metadata": {},
   "source": [
    "5. Create a dictionary that counts the number of each character in `new_string`."
   ]
  },
  {
   "cell_type": "markdown",
   "id": "948caa0e",
   "metadata": {},
   "source": [
    "6. Create three strings that replace the word 'string' in `new_string` with items from this list: `['misery', 'protein', 'spaghetti']`"
   ]
  },
  {
   "cell_type": "markdown",
   "id": "23ad6c86",
   "metadata": {},
   "source": [
    "7. Gather all the strings you have created into a list called `documents`."
   ]
  },
  {
   "cell_type": "markdown",
   "id": "67bc9a5c",
   "metadata": {},
   "source": [
    "8. Join all the sentences in `documents` into a single string called `text`."
   ]
  },
  {
   "cell_type": "markdown",
   "id": "8a19e652",
   "metadata": {},
   "source": [
    "9. Split `text` into a a list of words."
   ]
  },
  {
   "cell_type": "markdown",
   "id": "39a3875e",
   "metadata": {},
   "source": [
    "10. Create a `dictionary` that contains the words in `text` as keys and the frequency of each word as values."
   ]
  },
  {
   "cell_type": "markdown",
   "id": "1734d386",
   "metadata": {},
   "source": [
    "11. Create a chart that each word on the x-axis and the frequency of each word on the y-axis."
   ]
  },
  {
   "cell_type": "markdown",
   "id": "9c2de84d",
   "metadata": {},
   "source": [
    "12. Split `text` into a list of characters and create a dictionary that contains characters as keys and frequencies as values. "
   ]
  },
  {
   "cell_type": "markdown",
   "id": "bdd1d048",
   "metadata": {},
   "source": [
    "## Challenge question!"
   ]
  },
  {
   "cell_type": "markdown",
   "id": "b01ac7ca",
   "metadata": {},
   "source": [
    "13. Create a chart that compares the frequency of characters in English generally with the freqeuncy of the same characters in `text`. (See below for data on letter frequencies in English.)"
   ]
  },
  {
   "cell_type": "code",
   "execution_count": 2,
   "id": "0526e837",
   "metadata": {},
   "outputs": [],
   "source": [
    "letter_frequencies_english =  {'E': 0.12003601080324099, 'T': 0.09102730819245775, 'A': 0.08122436731019306, \\\n",
    "                       'O': 0.07682304691407423, 'I': 0.0731219365809743, 'N': 0.06952085625687708, \\\n",
    "                           'S': 0.06281884565369612, 'R': 0.06021806541962589, 'H': 0.05921776532959889, '\\\n",
    "                               D': 0.04321296388916676, 'L': 0.03981194358307493, 'U': 0.028808642592777836, \\\n",
    "                                   'C': 0.027108132439731925, 'M': 0.026107832349704915, 'F': 0.02300690207062119, \\\n",
    "                                       'Y': 0.021106331899569872, 'W': 0.02090627188156447, 'G': 0.020306091827548264, \\\n",
    "                                           'P': 0.01820546163849155, 'B': 0.014904471341402423, 'V': 0.011103330999299792,\\\n",
    "                                               'K': 0.006902070621186356, 'X': 0.0017005101530459142, 'Q': 0.0011003300990297092, \\\n",
    "                                                   'J': 0.0010003000900270084, 'Z': 0.0007002100630189059}\n"
   ]
  },
  {
   "cell_type": "code",
   "execution_count": null,
   "id": "eb43e8d2",
   "metadata": {},
   "outputs": [],
   "source": []
  }
 ],
 "metadata": {
  "kernelspec": {
   "display_name": "Python 3 (ipykernel)",
   "language": "python",
   "name": "python3"
  },
  "language_info": {
   "codemirror_mode": {
    "name": "ipython",
    "version": 3
   },
   "file_extension": ".py",
   "mimetype": "text/x-python",
   "name": "python",
   "nbconvert_exporter": "python",
   "pygments_lexer": "ipython3",
   "version": "3.9.13"
  }
 },
 "nbformat": 4,
 "nbformat_minor": 5
}
